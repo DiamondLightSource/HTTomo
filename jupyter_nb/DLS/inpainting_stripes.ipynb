{
 "cells": [
  {
   "cell_type": "code",
   "execution_count": 1,
   "id": "7f1d1eae-86e5-45fb-aa7e-d385dcbdc5a9",
   "metadata": {},
   "outputs": [],
   "source": [
    "import sys\n",
    "from datetime import datetime\n",
    "import os\n",
    "from os import mkdir\n",
    "import matplotlib.pyplot as plt\n",
    "\n",
    "from mpi4py import MPI\n",
    "import numpy as np\n",
    "from nvtx import annotate\n",
    "import multiprocessing\n",
    "import tomopy\n",
    "\n",
    "from httomo.common import PipelineTasks\n",
    "from httomo.data.hdf.loaders import standard_tomo\n",
    "from httomo.data.hdf._utils.save import intermediate_dataset\n",
    "from httomo.data.hdf._utils.reslice import reslice"
   ]
  },
  {
   "cell_type": "code",
   "execution_count": 23,
   "id": "060e3b5d-3b8c-4172-8dad-b56e4eeb0f0d",
   "metadata": {},
   "outputs": [],
   "source": [
    "# set I/O and other parameters\n",
    "in_file = \"/scratch/daniil/data/i12/360_scan_stripes/112482.nxs\"\n",
    "run_out_dir = os.path.join(\"/scratch/daniil/data/OUTPUT\", f\"{datetime.now().strftime('%d-%m-%Y_%H_%M_%S')}_output\")\n",
    "\n",
    "data_key = \"/entry1/tomo_entry/data/data\"\n",
    "dimension = 1 # load chunks projection-wise\n",
    "crop = 10 # crop the data if needed (around the mid slice)\n",
    "pad = 0 # padding data parameter\n",
    "\n",
    "comm = MPI.COMM_WORLD\n",
    "if comm.rank == 0:\n",
    "    mkdir(run_out_dir)\n",
    "if comm.size == 1:\n",
    "    ncore = multiprocessing.cpu_count() # use all available CPU cores if not an MPI run"
   ]
  },
  {
   "cell_type": "code",
   "execution_count": 25,
   "id": "52699e66-06a5-49be-8607-b8ec9a086f50",
   "metadata": {},
   "outputs": [
    {
     "name": "stdout",
     "output_type": "stream",
     "text": [
      "The full dataset shape is (3751, 2160, 2560)\n",
      "Cropped data shape is (3601, 216, 2560)\n",
      "[0] Pad values are (0, 0).\n",
      "[0] Data shape is (3601, 216, 2560) of type uint16\n"
     ]
    },
    {
     "ename": "NameError",
     "evalue": "name 'mid' is not defined",
     "output_type": "error",
     "traceback": [
      "\u001b[0;31m---------------------------------------------------------------------------\u001b[0m",
      "\u001b[0;31mNameError\u001b[0m                                 Traceback (most recent call last)",
      "Cell \u001b[0;32mIn [25], line 9\u001b[0m\n\u001b[1;32m      7\u001b[0m plt\u001b[38;5;241m.\u001b[39mtitle(\u001b[38;5;124m'\u001b[39m\u001b[38;5;124mRaw projection\u001b[39m\u001b[38;5;124m'\u001b[39m)\n\u001b[1;32m      8\u001b[0m plt\u001b[38;5;241m.\u001b[39msubplot(\u001b[38;5;241m132\u001b[39m)\n\u001b[0;32m----> 9\u001b[0m plt\u001b[38;5;241m.\u001b[39mimshow(data[:,\u001b[43mmid\u001b[49m,:])\n\u001b[1;32m     10\u001b[0m plt\u001b[38;5;241m.\u001b[39mtitle(\u001b[38;5;124m'\u001b[39m\u001b[38;5;124mRaw sinogram\u001b[39m\u001b[38;5;124m'\u001b[39m)\n\u001b[1;32m     11\u001b[0m plt\u001b[38;5;241m.\u001b[39msubplot(\u001b[38;5;241m133\u001b[39m)\n",
      "\u001b[0;31mNameError\u001b[0m: name 'mid' is not defined"
     ]
    },
    {
     "data": {
      "image/png": "[encoded data removed]",
      "text/plain": [
       "<Figure size 640x480 with 2 Axes>"
      ]
     },
     "metadata": {},
     "output_type": "display_data"
    }
   ],
   "source": [
    "#data, flats, darks, angles, angles_total, detector_y, detector_x = standard_tomo(in_file, data_key, dimension, crop, pad, comm)\n",
    "\n",
    "\n",
    "plt.figure()\n",
    "plt.subplot(131)\n",
    "plt.imshow(data[90,:,:])\n",
    "plt.title('Raw projection')\n",
    "plt.subplot(132)\n",
    "plt.imshow(data[:,mid,:])\n",
    "plt.title('Raw sinogram')\n",
    "plt.subplot(133)\n",
    "plt.imshow(flats[:,0,:])\n",
    "plt.title('Flat field')\n",
    "plt.show()\n"
   ]
  },
  {
   "cell_type": "code",
   "execution_count": 29,
   "id": "0478aec7-5af2-4129-9b62-746ade32c44a",
   "metadata": {},
   "outputs": [],
   "source": [
    "arr = [\":\",\"mid\",\":\"]"
   ]
  },
  {
   "cell_type": "code",
   "execution_count": 30,
   "id": "739f1f8e-906d-456c-b1be-82fcb4ce1447",
   "metadata": {},
   "outputs": [
    {
     "name": "stdout",
     "output_type": "stream",
     "text": [
      "mid\n"
     ]
    }
   ],
   "source": [
    "print(arr[1])"
   ]
  }
 ],
 "metadata": {
  "kernelspec": {
   "display_name": "Python 3 (ipykernel)",
   "language": "python",
   "name": "python3"
  },
  "language_info": {
   "codemirror_mode": {
    "name": "ipython",
    "version": 3
   },
   "file_extension": ".py",
   "mimetype": "text/x-python",
   "name": "python",
   "nbconvert_exporter": "python",
   "pygments_lexer": "ipython3",
   "version": "3.9.13"
  }
 },
 "nbformat": 4,
 "nbformat_minor": 5
}
